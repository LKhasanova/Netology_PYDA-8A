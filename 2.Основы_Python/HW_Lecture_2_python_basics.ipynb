{
 "cells": [
  {
   "cell_type": "markdown",
   "metadata": {},
   "source": [
    "**Задание 1**. Даны 2 строки: *long_phrase* и *short_phrase*. \n",
    "Напишите код, который проверяет действительно ли длинная фраза *long_phrase* длиннее короткой *short_phrase*. И выводит *True* или *False* в зависимости от результата сравнения."
   ]
  },
  {
   "cell_type": "code",
   "execution_count": null,
   "metadata": {},
   "outputs": [],
   "source": [
    "long_phrase = 'Насколько проще было бы писать программы, если бы не заказчики'\n",
    "short_phrase = '640Кб должно хватить для любых задач. Билл Гейтс (по легенде)'"
   ]
  },
  {
   "cell_type": "code",
   "execution_count": null,
   "metadata": {},
   "outputs": [],
   "source": [
    "compare_len = len(long_phrase) > len(short_phrase)\n",
    "print (compare_len)"
   ]
  },
  {
   "cell_type": "markdown",
   "metadata": {},
   "source": [
    "**Задание 2**. Дано значение объема файла в байтах (*в мегабайте 2^20 байт*). Напишите перевод этого значения в мегабайты в формате: \"*Объем файла равен 213.68Mb*\"."
   ]
  },
  {
   "cell_type": "code",
   "execution_count": null,
   "metadata": {},
   "outputs": [],
   "source": [
    "volume_file_byte = int(input('Введите объем файла в байтах: '))\n",
    "print (f\"Объем файла равен {round((volume_file_byte / (2 ** 20)), 2)} Mb\")"
   ]
  },
  {
   "cell_type": "markdown",
   "metadata": {},
   "source": [
    "**Задание 3**. Разработать приложение для определения знака зодиака по дате рождения. Пример:\n",
    "\n",
    "Введите месяц: март\n",
    "\n",
    "Введите число: 6\n",
    "\n",
    "Вывод:\n",
    "Рыбы"
   ]
  },
  {
   "cell_type": "code",
   "execution_count": null,
   "metadata": {},
   "outputs": [],
   "source": [
    "birth_month_user = input('Введите месяц рождения: ')\n",
    "birth_number = int(input('Введите число рождения: '))\n",
    "birth_month = birth_month_user.lower() #Преобразование строки к нижнему регистру \n",
    "if (birth_month == ('март') and birth_number >= 21) or (birth_month == ('апрель') and birth_number <= 20):\n",
    "    print ('Ваш знак зодиака: Овен')\n",
    "elif (birth_month == ('апрель') and birth_number >= 21) or (birth_month == ('май') and birth_number <= 21):\n",
    "    print ('Ваш знак зодиака: Телец')\n",
    "elif (birth_month == ('май') and birth_number >= 22) or (birth_month == ('июнь') and birth_number <= 21):\n",
    "    print ('Ваш знак зодиака: Близнецы')\n",
    "elif (birth_month == ('июнь') and birth_number >= 22) or (birth_month == ('июль') and birth_number <= 22):\n",
    "    print ('Ваш знак зодиака: Рак')\n",
    "elif (birth_month == ('июль') and birth_number >= 23) or (birth_month == ('август') and birth_number <= 23):\n",
    "    print ('Ваш знак зодиака: Лев')\n",
    "elif (birth_month == ('август') and birth_number >= 24) or (birth_month == ('сентябрь') and birth_number <= 23):\n",
    "    print ('Ваш знак зодиака: Дева')\n",
    "elif (birth_month == ('сентябрь') and birth_number >= 24) or (birth_month == ('октябрь') and birth_number <= 23):\n",
    "    print ('Ваш знак зодиака: Весы')\n",
    "elif (birth_month == ('октябрь') and birth_number >= 24) or (birth_month == ('ноябрь') and birth_number <= 22):\n",
    "    print ('Ваш знак зодиака: Скорпион')\n",
    "elif (birth_month == ('ноябрь') and birth_number >= 23) or (birth_month == ('декабрь') and birth_number <= 22):\n",
    "    print ('Ваш знак зодиака: Стрелец')\n",
    "elif (birth_month == ('декабрь') and birth_number >= 23) or (birth_month == ('январь') and birth_number <= 20):\n",
    "    print ('Ваш знак зодиака: Козерог')\n",
    "elif (birth_month == ('январь') and birth_number >= 21) or (birth_month == ('февраль') and birth_number <= 19):\n",
    "    print ('Ваш знак зодиака: Водолей')\n",
    "elif (birth_month == ('февраль') and birth_number >= 20) or (birth_month == ('март') and birth_number <= 20):\n",
    "    print ('Ваш знак зодиака: Рыбы')\n",
    "else:\n",
    "    print ('Формат даты введен неверно!')"
   ]
  },
  {
   "cell_type": "markdown",
   "metadata": {},
   "source": [
    "**Задание 4**. Нужно разработать приложение для финансового планирования.\n",
    "Приложение учитывает сколько уходит на ипотеку, \"на жизнь\" и сколько нужно отложить на пенсию.\n",
    "Пользователь вводит:\n",
    "- заработанную плату в месяц.\n",
    "- сколько процентов от ЗП уходит на ипотеку.\n",
    "- сколько процентов от ЗП уходит \"на жизнь\".\n",
    "- сколько раз приходит премия в год.\n",
    "\n",
    "Остальная часть заработанной платы откладывается на пенсию.\n",
    "\n",
    "Также пользователю приходит премия в размере зарплаты, от которой половина уходит на отпуск, а вторая половина откладывается.\n",
    "\n",
    "Программа должна учитывать сколько премий было в год.\n",
    "\n",
    "Нужно вывести сколько денег тратит пользователь на ипотеку и сколько он накопит за год.\n",
    "\n",
    "Пример:\n",
    "\n",
    "Введите заработанную плату в месяц: 100000\n",
    "\n",
    "Введите сколько процентов уходит на ипотеку: 30\n",
    "\n",
    "Введите сколько процентов уходит на жизнь: 50\n",
    "\n",
    "Введите количество премий за год: 2\n",
    "\n",
    "Вывод:\n",
    "На ипотеку было потрачено: 360000 рублей\n",
    "Было накоплено: 340000 рублей"
   ]
  },
  {
   "cell_type": "code",
   "execution_count": null,
   "metadata": {},
   "outputs": [],
   "source": [
    "monthly_salary = int(input('Введите заработанную плату в месяц: '))\n",
    "mortgage_rate = int(input('Введите сколько процентов уходит на ипотеку: '))\n",
    "life_rate = int(input('Введите сколько процентов уходит на жизнь: '))\n",
    "number_of_bonus = int(input('Введите количество премий за год: '))"
   ]
  },
  {
   "cell_type": "code",
   "execution_count": null,
   "metadata": {},
   "outputs": [],
   "source": [
    "sum_mortgage_year = (monthly_salary * 12 ) * (mortgage_rate / 100)\n",
    "money_box = (monthly_salary * ((100 - mortgage_rate - life_rate) / 100)) * 12 + (number_of_bonus * monthly_salary) * 0.5\n",
    "print (f\"На ипотеку было потрачено: {int(sum_mortgage_year)} рублей. Было накоплено: {int(money_box)} рублей\")"
   ]
  }
 ],
 "metadata": {
  "kernelspec": {
   "display_name": "Python 3",
   "language": "python",
   "name": "python3"
  },
  "language_info": {
   "codemirror_mode": {
    "name": "ipython",
    "version": 3
   },
   "file_extension": ".py",
   "mimetype": "text/x-python",
   "name": "python",
   "nbconvert_exporter": "python",
   "pygments_lexer": "ipython3",
   "version": "3.7.6"
  }
 },
 "nbformat": 4,
 "nbformat_minor": 2
}
