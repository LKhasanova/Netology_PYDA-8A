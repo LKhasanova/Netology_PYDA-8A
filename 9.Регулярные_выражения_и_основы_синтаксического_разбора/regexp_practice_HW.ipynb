{
 "cells": [
  {
   "cell_type": "markdown",
   "metadata": {},
   "source": [
    "# Домашнее задание"
   ]
  },
  {
   "cell_type": "markdown",
   "metadata": {},
   "source": [
    "### Задание 1.\n",
    "Напишите функцию, которая принимает на вход строку и проверяет является ли она валидным транспортным номером. Если да, то функция должна возвращать отдельно номер и регион."
   ]
  },
  {
   "cell_type": "code",
   "execution_count": 1,
   "metadata": {},
   "outputs": [],
   "source": [
    "import re"
   ]
  },
  {
   "cell_type": "code",
   "execution_count": 7,
   "metadata": {},
   "outputs": [],
   "source": [
    "def valid_transport_number(transport_number):\n",
    "    number_pattern = r'(^[АВЕКМНОРСТУХ]{1})(\\d{3}(?<!000))([АВЕКМНОРСТУХ]{2})(\\d{2}(?<!00)|102|113|116|121|123|124|125|126|134|136|138|142|150|152|154|159|161|163|164|173|174|177|178|186|190|196|197|198|199|750|716|761|763|777|799)$'\n",
    "    result = re.search(number_pattern, transport_number)\n",
    "    if result:\n",
    "        print(f'Номера транспортного средства: {result.group(2)}')\n",
    "        print(f'Регион: {result.group(4)}')\n",
    "    else:\n",
    "        print('Введенный номер ТС не корректный')"
   ]
  },
  {
   "cell_type": "code",
   "execution_count": 8,
   "metadata": {},
   "outputs": [
    {
     "name": "stdout",
     "output_type": "stream",
     "text": [
      "Введите транспортный номер: С123АВ29\n",
      "Номера транспортного средства: 123\n",
      "Регион: 29\n"
     ]
    }
   ],
   "source": [
    "transport_number = input('Введите транспортный номер: ')\n",
    "valid_transport_number(transport_number)"
   ]
  },
  {
   "cell_type": "markdown",
   "metadata": {},
   "source": [
    "### Задание 2.\n",
    "Постарайтесь написать (в крайнем случае найти) самый полный шаблон для проверки e-mail адресов через регулярное выражение, которая проверяет e-mail адрес на валидность. Можно руководствоваться следующими минимальными требованиями:\n",
    "• адрес должен содержать специальный символ “@”, который отделяет имя пользователя почтовой системы от доменного имени;\n",
    "• адрес не должен содержать следующие символы: “пробел”, “,”, “:”, “;”, “!”, “#”, “%”, “*”, “(”, “)”, “=”, “+”, “{”, “}”, \" \" \", \" ’ \", \" / \", \" \\ \" и “|”;\n",
    "• адрес должен состоять только из латинских символов;\n",
    "• после символа “@” должна быть как минимум одна “.”;\n",
    "• после последней точки должно быть не менее 2-х и не более 4-х символов, причем наличие цифр не допускается;\n",
    "• между последней точкой и символом “@” должно быть не менее 2-х символов\n",
    "• слева от “@” должно быть не менее четырех символов"
   ]
  },
  {
   "cell_type": "code",
   "execution_count": 12,
   "metadata": {},
   "outputs": [
    {
     "name": "stdout",
     "output_type": "stream",
     "text": [
      "e-mail s122s@gmail.com корректный\n"
     ]
    }
   ],
   "source": [
    "email = 's122s@gmail.com' #Емаил для проверки\n",
    "email_pattern = r'^[^а-яёА-ЯЁ\\s,:;!#%*()=+{}\"’/\\|]{4,64}@[A-Za-z0-9.-]{2,}\\.[a-z]{2,4}$'\n",
    "if re.findall(email_pattern, email):\n",
    "    print(f'e-mail {email} корректный')\n",
    "else:\n",
    "    print(f'e-mail {email} введен неверно!') "
   ]
  },
  {
   "cell_type": "markdown",
   "metadata": {},
   "source": [
    "### Задание 3\n",
    "Напишите функцию, которая будет удалять все последовательные повторы слов из заданной строки при помощи регулярных выражений."
   ]
  },
  {
   "cell_type": "code",
   "execution_count": 13,
   "metadata": {},
   "outputs": [],
   "source": [
    "def delete_repeats(line):\n",
    "    result = re.sub(r'\\b(\\w+)(\\s+\\1)\\b', r'\\1', line, flags=re.I)\n",
    "    return result"
   ]
  },
  {
   "cell_type": "code",
   "execution_count": 14,
   "metadata": {},
   "outputs": [
    {
     "data": {
      "text/plain": [
       "'Напишите функцию, которая будет удалять все последовательные повторы слов из строки'"
      ]
     },
     "execution_count": 14,
     "metadata": {},
     "output_type": "execute_result"
    }
   ],
   "source": [
    "delete_repeats('Напишите напишите функцию, которая будет будет удалять все все последовательные повторы слов слов из строки')"
   ]
  },
  {
   "cell_type": "markdown",
   "metadata": {},
   "source": [
    "### Задание 4.\n",
    "Напишите функцию, которая будет проверять номер сотового телефона на валидность, если он валиден, то переводить его в формат:\n",
    "+7(xxx)-xxx-xx-xx\n",
    "\n",
    "Постарайтесь предусмотреть как можно больше адекватных форматов изначального ввода номера. Примеры валидных форматов:\n",
    "\n",
    "• +7 955 555-55-55;\n",
    "• 9555555555;\n",
    "• 8(955)555-55-55;\n",
    "• +7 955 555 55 55;\n",
    "• 7(955) 555-55-55;\n",
    "• +7 955+555+55+55."
   ]
  },
  {
   "cell_type": "code",
   "execution_count": 15,
   "metadata": {},
   "outputs": [],
   "source": [
    "def valid_phone_number(phone_number):\n",
    "    phone_number_pattern = r'^\\+?[7|8]?[\\s\\-\\+]?\\(?(\\d{3})\\)?[\\s\\-\\+]?(\\d{3})[\\s\\-\\+]?(\\d{2})[\\s\\-\\+]?(\\d{2})$'\n",
    "    result = re.search(phone_number_pattern, phone_number)\n",
    "    if result:\n",
    "        result_phone_number = f'+7({result.group(1)})-{result.group(2)}-{result.group(3)}-{result.group(4)}'\n",
    "        return result_phone_number\n",
    "    else:\n",
    "        print('Номер сотового телефона введен неверно!')"
   ]
  },
  {
   "cell_type": "code",
   "execution_count": 16,
   "metadata": {},
   "outputs": [
    {
     "data": {
      "text/plain": [
       "'+7(976)-564-33-22'"
      ]
     },
     "execution_count": 16,
     "metadata": {},
     "output_type": "execute_result"
    }
   ],
   "source": [
    "valid_phone_number('89765643322')"
   ]
  },
  {
   "cell_type": "code",
   "execution_count": null,
   "metadata": {},
   "outputs": [],
   "source": []
  }
 ],
 "metadata": {
  "kernelspec": {
   "display_name": "Python 3",
   "language": "python",
   "name": "python3"
  },
  "language_info": {
   "codemirror_mode": {
    "name": "ipython",
    "version": 3
   },
   "file_extension": ".py",
   "mimetype": "text/x-python",
   "name": "python",
   "nbconvert_exporter": "python",
   "pygments_lexer": "ipython3",
   "version": "3.7.6"
  }
 },
 "nbformat": 4,
 "nbformat_minor": 2
}
