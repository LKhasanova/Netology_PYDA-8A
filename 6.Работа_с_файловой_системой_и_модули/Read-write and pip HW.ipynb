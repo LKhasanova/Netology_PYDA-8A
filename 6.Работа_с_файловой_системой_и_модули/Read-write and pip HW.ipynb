{
 "cells": [
  {
   "cell_type": "markdown",
   "metadata": {},
   "source": [
    "# Домашнее задание\n",
    "1. Переведите содержимое файла purchase_log.txt в словарь purchases вида:\n",
    "```python\n",
    "{'1840e0b9d4': 'Продукты', ...}\n",
    "```\n",
    "\n",
    "2. Для каждого user_id в файле visit_log.csv определите третий столбец с категорией покупки (если покупка была, сам файл visit_log.csv изменять не надо). Запишите в файл funnel.csv визиты из файла visit_log.csv, в которых были покупки с указанием категории.\n",
    "\n",
    "Учтите условия на данные:\n",
    "- содержимое purchase_log.txt помещается в оперативную память компьютера\n",
    "- содержимое visit_log.csv - нет; используйте только построчную обработку этого файла"
   ]
  },
  {
   "cell_type": "code",
   "execution_count": 1,
   "metadata": {},
   "outputs": [],
   "source": [
    "import json"
   ]
  },
  {
   "cell_type": "code",
   "execution_count": 2,
   "metadata": {},
   "outputs": [],
   "source": [
    "purchases = {} #Создаю пустой словарь\n",
    "f = open('purchase_log.txt', 'r', encoding='utf-8')\n",
    "content = f.readlines()\n",
    "f.close()\n",
    "content_iter = iter(content)\n",
    "next(content_iter)\n",
    "for element in content_iter:\n",
    "    el_key, el_value = list(json.loads(element).values())\n",
    "    purchases[el_key] = el_value"
   ]
  },
  {
   "cell_type": "code",
   "execution_count": 3,
   "metadata": {},
   "outputs": [],
   "source": [
    "i = 0\n",
    "with open('visit_log.csv', 'r', encoding='utf-8') as f_log:\n",
    "    with open('funnel.csv', 'w', encoding='utf-8') as f_funnel:\n",
    "        for line in f_log:\n",
    "            if i > 0:\n",
    "                user_id = line.strip().split(',')[0]\n",
    "                if purchases.get(user_id):\n",
    "                    new_line = f\"{line.strip()},{purchases[user_id]}\"\n",
    "                    f_funnel.write(new_line + '\\n')\n",
    "            else:\n",
    "                headers = f\"{line.strip()},category\"\n",
    "                f_funnel.write(headers + '\\n')\n",
    "                i += 1"
   ]
  },
  {
   "cell_type": "code",
   "execution_count": null,
   "metadata": {},
   "outputs": [],
   "source": []
  }
 ],
 "metadata": {
  "kernelspec": {
   "display_name": "Python 3",
   "language": "python",
   "name": "python3"
  },
  "language_info": {
   "codemirror_mode": {
    "name": "ipython",
    "version": 3
   },
   "file_extension": ".py",
   "mimetype": "text/x-python",
   "name": "python",
   "nbconvert_exporter": "python",
   "pygments_lexer": "ipython3",
   "version": "3.7.6"
  }
 },
 "nbformat": 4,
 "nbformat_minor": 2
}
