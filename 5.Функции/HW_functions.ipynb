{
 "cells": [
  {
   "cell_type": "markdown",
   "metadata": {},
   "source": [
    "Вы работаете секретарем и вам постоянно приходят различные документы. Вы должны быть очень внимательны, чтобы не потерять ни один документ. Каталог документов хранится в следующем виде:"
   ]
  },
  {
   "cell_type": "code",
   "execution_count": null,
   "metadata": {},
   "outputs": [],
   "source": [
    "documents = [\n",
    "    {'type': 'passport', 'number': '2207 876234', 'name': 'Василий Гупкин'},\n",
    "    {'type': 'invoice', 'number': '11-2', 'name': 'Геннадий Покемонов'},\n",
    "    {'type': 'insurance', 'number': '10006', 'name': 'Аристарх Павлов'}\n",
    "]"
   ]
  },
  {
   "cell_type": "markdown",
   "metadata": {},
   "source": [
    "Перечень полок, на которых находятся документы хранится в следующем виде:"
   ]
  },
  {
   "cell_type": "code",
   "execution_count": null,
   "metadata": {},
   "outputs": [],
   "source": [
    "directories = {\n",
    "    '1': ['2207 876234', '11-2'],\n",
    "    '2': ['10006'],\n",
    "    '3': []\n",
    "}"
   ]
  },
  {
   "cell_type": "markdown",
   "metadata": {},
   "source": [
    "Необходимо реализовать пользовательские команды (внимание! это не название функций, которые должны быть выразительными, а команды, которые вводит пользователь, чтобы получить необходимый результат):\n",
    "  \n",
    "- p – people – команда, которая спросит номер документа и выведет имя человека, которому он принадлежит;  \n",
    "- s – shelf – команда, которая спросит номер документа и выведет номер полки, на которой он находится  \n",
    "Правильно обработайте ситуацию, когда пользователь будет вводить несуществующий документ.\n",
    "- l – list – команда, которая выведет список всех документов в формате   \n",
    "**passport \"2207 876234\" \"Василий Гупкин\"**  \n",
    "- as – add shelf – команда, которая спросит номер новой полки и добавит ее в перечень\n",
    "- d – delete – команда, которая спросит номер документа и удалит его из каталога и из перечня полок. Предусмотрите сценарий, когда пользователь вводит несуществующий документ;  \n",
    "- m – move – команда, которая спросит номер документа и целевую полку и переместит его с текущей полки на целевую. Корректно обработайте кейсы, когда пользователь пытается переместить несуществующий документ или переместить документ на несуществующую полку;  \n",
    "- a – add – команда, которая добавит новый документ в каталог и в перечень полок, спросив его номер, тип, имя владельца и номер полки, на котором он будет храниться."
   ]
  },
  {
   "cell_type": "code",
   "execution_count": null,
   "metadata": {},
   "outputs": [],
   "source": [
    "def number_is_correct(number_document, documents): #Проверяет корректность введенного номера докумета\n",
    "    for document in documents:\n",
    "        if document['number'] == number_document:\n",
    "            break\n",
    "    else:\n",
    "        print(f'Нет документа с номером {number_document}')\n",
    "        return False \n",
    "    return True"
   ]
  },
  {
   "cell_type": "code",
   "execution_count": null,
   "metadata": {},
   "outputs": [],
   "source": [
    "def directory_is_correct(target_dir, directories): #Проверяет корректность введенного номер полки\n",
    "    if target_dir not in list(directories.keys()):\n",
    "        print(f'Нет полки с номером {target_dir}')\n",
    "        return False \n",
    "    return True"
   ]
  },
  {
   "cell_type": "code",
   "execution_count": null,
   "metadata": {},
   "outputs": [],
   "source": [
    "def check_uniq_doc_number(new_number_doc,directories):#Провека уникальности номера документа\n",
    "    for document in documents:\n",
    "        if document['number'] == new_number_doc:\n",
    "            print(f'Нельзя добавить документ с номером {new_number_doc}, так как он уже существует')\n",
    "            return False\n",
    "            break   \n",
    "    return True"
   ]
  },
  {
   "cell_type": "code",
   "execution_count": null,
   "metadata": {},
   "outputs": [],
   "source": [
    "def search_name_by_number(documents, number_document):#p – people, Ищет имя человека по номеру документа\n",
    "    if number_is_correct(number_document, documents):\n",
    "        for document in documents:\n",
    "            if document['number'] == number_document:\n",
    "                print(\"Данный документ принадлежит:\", document['name'])\n",
    "                break"
   ]
  },
  {
   "cell_type": "code",
   "execution_count": null,
   "metadata": {},
   "outputs": [],
   "source": [
    "def search_dir_by_number(directories, documents, number_document):#s – shelf , Ищет номер полки по номеру документа\n",
    "    if number_is_correct(number_document, documents):\n",
    "        for key,numbers in directories.items():\n",
    "            if number_document in numbers:\n",
    "                print(f'Документ находится на полке №: {key}')\n",
    "                break\n",
    "        else:\n",
    "            print(f'Документ с номером {number_document} не представлен на полке')"
   ]
  },
  {
   "cell_type": "code",
   "execution_count": null,
   "metadata": {},
   "outputs": [],
   "source": [
    "def print_all_info_document(documents):#l – list, Выводит список всех документов\n",
    "    for info in documents:\n",
    "        doc, num, name = info.values()\n",
    "        print(f'{doc} \"{num}\" \"{name}\"')"
   ]
  },
  {
   "cell_type": "code",
   "execution_count": null,
   "metadata": {},
   "outputs": [],
   "source": [
    "def add_new_directory(directories, number_new_dir): #as – add shelf, Добавляет номер новой полки\n",
    "    directories.setdefault(number_new_dir, [])"
   ]
  },
  {
   "cell_type": "code",
   "execution_count": null,
   "metadata": {},
   "outputs": [],
   "source": [
    "def delete_doc_from_documents(documents, number_document): #d – delete по номеру документа удалит каталога документнов\n",
    "    if number_is_correct(number_document, documents):\n",
    "        for document in documents:\n",
    "            if document['number'] == number_document:\n",
    "                documents.remove(document)\n",
    "                break"
   ]
  },
  {
   "cell_type": "code",
   "execution_count": null,
   "metadata": {},
   "outputs": [],
   "source": [
    "def delete_doc_in_directories(directories, number_document): #d – delete по номеру документа удалит из перечня полок\n",
    "    for key, numbers in directories.items():\n",
    "        if number_document in numbers:\n",
    "                numbers.remove(number_document)\n",
    "                directories[key] = numbers"
   ]
  },
  {
   "cell_type": "code",
   "execution_count": null,
   "metadata": {},
   "outputs": [],
   "source": [
    "def add_doc_to_dir(directories, number_document, target_dir): #Добавляем документ в нужную полку\n",
    "    directories[target_dir].append(number_document)"
   ]
  },
  {
   "cell_type": "code",
   "execution_count": null,
   "metadata": {},
   "outputs": [],
   "source": [
    "def move_document_to_directory(number_document, target_dir, documents, directories):#перемещение док-та с тек. полки на целевую \n",
    "    if number_is_correct(number_document, documents) and directory_is_correct(target_dir, directories):\n",
    "        delete_doc_in_directories(directories, number_document)\n",
    "        add_doc_to_dir(directories, number_document, target_dir)"
   ]
  },
  {
   "cell_type": "code",
   "execution_count": null,
   "metadata": {},
   "outputs": [],
   "source": [
    "def add_new_doc_to_documents_directories(new_type, new_number_doc, new_name, new_number_dir, directories, documents):\n",
    "    if directory_is_correct(new_number_dir, directories) and check_uniq_doc_number(new_number_doc,directories):\n",
    "        add_doc_to_dir(directories, new_number_doc, new_number_dir)\n",
    "        documents.append({'type': new_type, 'number': new_number_doc, 'name': new_name}) #добавление информации в каталог док-тов"
   ]
  },
  {
   "cell_type": "code",
   "execution_count": null,
   "metadata": {},
   "outputs": [],
   "source": [
    "def main():\n",
    "    while True:\n",
    "        user_input = input('Введите команду: ')\n",
    "        if user_input == 'p':\n",
    "            number_document = input('Введите номер документа: ')\n",
    "            search_name_by_number(documents, number_document)\n",
    "        elif user_input == 's':\n",
    "            number_document = input('Введите номер документа: ')\n",
    "            search_dir_by_number(directories, documents, number_document)\n",
    "        elif user_input == 'l':\n",
    "            print_all_info_document(documents)   \n",
    "        elif user_input == 'as':\n",
    "            number_new_dir = input('Введите номер новой полки:')\n",
    "            add_new_directory(directories, number_new_dir)\n",
    "        elif user_input == 'd':\n",
    "            number_document = input('Введите номер документа: ')\n",
    "            delete_doc_from_documents(documents, number_document)\n",
    "            delete_doc_in_directories(directories, number_document)\n",
    "        elif user_input == 'm':\n",
    "            number_document = input('Введите номер документа, который хотите переместить: ')\n",
    "            target_dir = input('Введите номер целевой полки: ')\n",
    "            move_document_to_directory(number_document, target_dir, documents, directories)\n",
    "        elif user_input == 'a':\n",
    "            new_type = input('Введите тип документа: ')\n",
    "            new_number_doc = input('Введите номер документа: ')\n",
    "            new_name = input('Введите имя владельца документа: ')\n",
    "            new_number_dir = input('Введите номер полки, где будет лежать документ: ')\n",
    "            add_new_doc_to_documents_directories(new_type, new_number_doc, new_name, new_number_dir, directories, documents)\n",
    "        elif user_input == 'q':\n",
    "            print('До свидания!')\n",
    "            break"
   ]
  },
  {
   "cell_type": "code",
   "execution_count": null,
   "metadata": {},
   "outputs": [],
   "source": [
    "main()"
   ]
  }
 ],
 "metadata": {
  "kernelspec": {
   "display_name": "Python 3",
   "language": "python",
   "name": "python3"
  },
  "language_info": {
   "codemirror_mode": {
    "name": "ipython",
    "version": 3
   },
   "file_extension": ".py",
   "mimetype": "text/x-python",
   "name": "python",
   "nbconvert_exporter": "python",
   "pygments_lexer": "ipython3",
   "version": "3.7.6"
  }
 },
 "nbformat": 4,
 "nbformat_minor": 2
}
