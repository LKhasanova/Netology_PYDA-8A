{
 "cells": [
  {
   "cell_type": "markdown",
   "metadata": {},
   "source": [
    "# Домашнее задание №1\n",
    "Необходимо запустить практическую часть занятия, и посмотреть самому то, о чём говорили на лекции.\n",
    "По образу практики, попробуйте создать искусственный датасет с лишними столбцами.\n",
    "Целевую метку, при правильной обработке данных, формируйте таким образом, чтобы без затруднений её смогла описать линейная модель.\n",
    "Ориентируйтесь на то, что было показано во время занятия, и каждый шаг описывайте в markdown. Здесь важно видеть ваш ход мысли.\n",
    "Не бойтесь ошибиться или написать не то. Данное задание не имеет какого-то “правильного” решения. Цель - достичь базового понимания проблемы.\n",
    "Чем больше вы фантазируете, тем лучше :) Тем не менее, старайтесь представить те ситуации, которые по-вашему мнению могли бы быть в реальных данных. Успеха!"
   ]
  },
  {
   "cell_type": "code",
   "execution_count": 73,
   "metadata": {},
   "outputs": [],
   "source": [
    "import numpy as np\n",
    "import pandas as pd\n",
    "\n",
    "from sklearn.linear_model import LinearRegression"
   ]
  },
  {
   "cell_type": "markdown",
   "metadata": {},
   "source": [
    "Для примера рассмотрим придуманную формулу Расчет базового расхода калорий в день, создадим искусственный датасет, где будут следующие столбцы:\n",
    "- **weight:** вес, кг\n",
    "- **growth:** рост, см\n",
    "- **age:** возраст, лет\n",
    "- **sleep_hours:** среднее количество часов сна в день\n",
    "- **bmr:** количество калорий необходимых для жизни в состоянии покоя (питание, рост, переваривание пищи) расчитывается по формуле (0.2 * вес, кг * рост, см) — (5 * возраст) — 161, ккал/сут"
   ]
  },
  {
   "cell_type": "code",
   "execution_count": 74,
   "metadata": {},
   "outputs": [
    {
     "data": {
      "text/html": [
       "<div>\n",
       "<style scoped>\n",
       "    .dataframe tbody tr th:only-of-type {\n",
       "        vertical-align: middle;\n",
       "    }\n",
       "\n",
       "    .dataframe tbody tr th {\n",
       "        vertical-align: top;\n",
       "    }\n",
       "\n",
       "    .dataframe thead th {\n",
       "        text-align: right;\n",
       "    }\n",
       "</style>\n",
       "<table border=\"1\" class=\"dataframe\">\n",
       "  <thead>\n",
       "    <tr style=\"text-align: right;\">\n",
       "      <th></th>\n",
       "      <th>weight</th>\n",
       "      <th>growth</th>\n",
       "      <th>age</th>\n",
       "      <th>sleep_hours</th>\n",
       "      <th>bmr</th>\n",
       "    </tr>\n",
       "  </thead>\n",
       "  <tbody>\n",
       "    <tr>\n",
       "      <th>0</th>\n",
       "      <td>95</td>\n",
       "      <td>197</td>\n",
       "      <td>39</td>\n",
       "      <td>11</td>\n",
       "      <td>3387.0</td>\n",
       "    </tr>\n",
       "    <tr>\n",
       "      <th>1</th>\n",
       "      <td>100</td>\n",
       "      <td>123</td>\n",
       "      <td>98</td>\n",
       "      <td>20</td>\n",
       "      <td>1809.0</td>\n",
       "    </tr>\n",
       "    <tr>\n",
       "      <th>2</th>\n",
       "      <td>36</td>\n",
       "      <td>157</td>\n",
       "      <td>81</td>\n",
       "      <td>3</td>\n",
       "      <td>564.4</td>\n",
       "    </tr>\n",
       "    <tr>\n",
       "      <th>3</th>\n",
       "      <td>108</td>\n",
       "      <td>152</td>\n",
       "      <td>80</td>\n",
       "      <td>21</td>\n",
       "      <td>2722.2</td>\n",
       "    </tr>\n",
       "    <tr>\n",
       "      <th>4</th>\n",
       "      <td>117</td>\n",
       "      <td>145</td>\n",
       "      <td>32</td>\n",
       "      <td>8</td>\n",
       "      <td>3072.0</td>\n",
       "    </tr>\n",
       "  </tbody>\n",
       "</table>\n",
       "</div>"
      ],
      "text/plain": [
       "   weight  growth  age  sleep_hours     bmr\n",
       "0      95     197   39           11  3387.0\n",
       "1     100     123   98           20  1809.0\n",
       "2      36     157   81            3   564.4\n",
       "3     108     152   80           21  2722.2\n",
       "4     117     145   32            8  3072.0"
      ]
     },
     "execution_count": 74,
     "metadata": {},
     "output_type": "execute_result"
    }
   ],
   "source": [
    "dataset_size = 1000 #размер датасета\n",
    "\n",
    "weight = np.random.randint(30, 120, n_samples)\n",
    "growth = np.random.randint(100, 200, n_samples)\n",
    "age = np.random.randint(10, 100, n_samples)\n",
    "sleep_hours = np.random.randint(2, 24, n_samples)\n",
    "\n",
    "bmr = 0.2 * weight * growth - 5 * age - 161\n",
    "\n",
    "data = pd.DataFrame({'weight': weight, 'growth': growth, 'age': age, 'sleep_hours': sleep_hours, 'bmr': bmr})\n",
    "data.head()"
   ]
  },
  {
   "cell_type": "markdown",
   "metadata": {},
   "source": [
    "По итоговой формуле видно, что столбец sleep_hours - лишняя переменная.\n",
    "\n",
    "Далее построим модель линейной регрессии, разделим наш датасет на x и y, в y будет bmr, в x - все остальные показатели."
   ]
  },
  {
   "cell_type": "code",
   "execution_count": 75,
   "metadata": {},
   "outputs": [
    {
     "name": "stdout",
     "output_type": "stream",
     "text": [
      "Weights: [30.11909716 15.1890225  -5.25801884  1.15648172]\n",
      "Bias: -2451.0787980827245\n",
      "Error: 108.16993589410477\n"
     ]
    }
   ],
   "source": [
    "from sklearn.metrics import mean_absolute_error\n",
    "\n",
    "X = data[['weight', 'growth', 'age', 'sleep_hours']]\n",
    "y = data['bmr']\n",
    "reg = LinearRegression().fit(X, y)\n",
    "print('Weights: {}'.format(reg.coef_))\n",
    "print('Bias: {}'.format(reg.intercept_))\n",
    "\n",
    "pred_values = reg.predict(data[['weight', 'growth', 'age', 'sleep_hours']])\n",
    "print('Error: {}'.format(mean_absolute_error(pred_values, y)))"
   ]
  },
  {
   "cell_type": "code",
   "execution_count": 76,
   "metadata": {},
   "outputs": [
    {
     "data": {
      "text/plain": [
       "1807.3"
      ]
     },
     "execution_count": 76,
     "metadata": {},
     "output_type": "execute_result"
    }
   ],
   "source": [
    "y.median()"
   ]
  },
  {
   "cell_type": "markdown",
   "metadata": {},
   "source": [
    "По весам модели видно, что вес надо умножитьна 30, рост на 15, возраст на -5, а среднее кол-во часов сна на 1, а сдвиг равен -2451, а по нашей формуле он равен -161. По абсолютной ошибке видно, что предсказанные значения отклоняются от реальных на 108, с учетом,что медиана по y равно 1807, это достаточно большое значение ошибки. Попробуем убрать из x лишнюю переменную среднее кол-во часов сна."
   ]
  },
  {
   "cell_type": "code",
   "execution_count": 77,
   "metadata": {},
   "outputs": [
    {
     "name": "stdout",
     "output_type": "stream",
     "text": [
      "Weights: [30.12794884 15.1848554  -5.25123113]\n",
      "Bias: -2436.79922920178\n",
      "Error: 108.21054671465039\n"
     ]
    }
   ],
   "source": [
    "X = data[['weight', 'growth', 'age']]\n",
    "y = data['bmr']\n",
    "reg = LinearRegression().fit(X, y)\n",
    "print('Weights: {}'.format(reg.coef_))\n",
    "print('Bias: {}'.format(reg.intercept_))\n",
    "\n",
    "pred_values = reg.predict(data[['weight', 'growth', 'age']])\n",
    "print('Error: {}'.format(mean_absolute_error(pred_values, y)))"
   ]
  },
  {
   "cell_type": "markdown",
   "metadata": {},
   "source": [
    "После того, как мы убрали среднее количество часов сна качество модели не улучшилось и модель не может нормально предсказать bmr. Проблема в том, что формуле у нас мультипликативная модель (показатель веса умножается на показатель роста), а линейная модель - аддитивная (сумма показателей), создадим новую переменную в которой посчитаем произведение роста на вес и запустим модель линейной регрессии снова."
   ]
  },
  {
   "cell_type": "code",
   "execution_count": 78,
   "metadata": {},
   "outputs": [
    {
     "data": {
      "text/html": [
       "<div>\n",
       "<style scoped>\n",
       "    .dataframe tbody tr th:only-of-type {\n",
       "        vertical-align: middle;\n",
       "    }\n",
       "\n",
       "    .dataframe tbody tr th {\n",
       "        vertical-align: top;\n",
       "    }\n",
       "\n",
       "    .dataframe thead th {\n",
       "        text-align: right;\n",
       "    }\n",
       "</style>\n",
       "<table border=\"1\" class=\"dataframe\">\n",
       "  <thead>\n",
       "    <tr style=\"text-align: right;\">\n",
       "      <th></th>\n",
       "      <th>weight</th>\n",
       "      <th>growth</th>\n",
       "      <th>age</th>\n",
       "      <th>sleep_hours</th>\n",
       "      <th>bmr</th>\n",
       "      <th>mult</th>\n",
       "    </tr>\n",
       "  </thead>\n",
       "  <tbody>\n",
       "    <tr>\n",
       "      <th>0</th>\n",
       "      <td>95</td>\n",
       "      <td>197</td>\n",
       "      <td>39</td>\n",
       "      <td>11</td>\n",
       "      <td>3387.0</td>\n",
       "      <td>18715</td>\n",
       "    </tr>\n",
       "    <tr>\n",
       "      <th>1</th>\n",
       "      <td>100</td>\n",
       "      <td>123</td>\n",
       "      <td>98</td>\n",
       "      <td>20</td>\n",
       "      <td>1809.0</td>\n",
       "      <td>12300</td>\n",
       "    </tr>\n",
       "    <tr>\n",
       "      <th>2</th>\n",
       "      <td>36</td>\n",
       "      <td>157</td>\n",
       "      <td>81</td>\n",
       "      <td>3</td>\n",
       "      <td>564.4</td>\n",
       "      <td>5652</td>\n",
       "    </tr>\n",
       "    <tr>\n",
       "      <th>3</th>\n",
       "      <td>108</td>\n",
       "      <td>152</td>\n",
       "      <td>80</td>\n",
       "      <td>21</td>\n",
       "      <td>2722.2</td>\n",
       "      <td>16416</td>\n",
       "    </tr>\n",
       "    <tr>\n",
       "      <th>4</th>\n",
       "      <td>117</td>\n",
       "      <td>145</td>\n",
       "      <td>32</td>\n",
       "      <td>8</td>\n",
       "      <td>3072.0</td>\n",
       "      <td>16965</td>\n",
       "    </tr>\n",
       "  </tbody>\n",
       "</table>\n",
       "</div>"
      ],
      "text/plain": [
       "   weight  growth  age  sleep_hours     bmr   mult\n",
       "0      95     197   39           11  3387.0  18715\n",
       "1     100     123   98           20  1809.0  12300\n",
       "2      36     157   81            3   564.4   5652\n",
       "3     108     152   80           21  2722.2  16416\n",
       "4     117     145   32            8  3072.0  16965"
      ]
     },
     "execution_count": 78,
     "metadata": {},
     "output_type": "execute_result"
    }
   ],
   "source": [
    "# Создаем новый признак\n",
    "data['mult'] = data['weight'] * data['growth']\n",
    "data.head(5)"
   ]
  },
  {
   "cell_type": "code",
   "execution_count": 79,
   "metadata": {},
   "outputs": [
    {
     "name": "stdout",
     "output_type": "stream",
     "text": [
      "Weights: [ 0.2 -5. ]\n",
      "Bias: -161.00000000000068\n",
      "Error: 3.7414338294183835e-13\n"
     ]
    }
   ],
   "source": [
    "X = data[['mult', 'age']]\n",
    "y = data['bmr']\n",
    "reg = LinearRegression().fit(X, y)\n",
    "print('Weights: {}'.format(reg.coef_))\n",
    "print('Bias: {}'.format(reg.intercept_))\n",
    "\n",
    "pred_values = reg.predict(data[['mult', 'age']])\n",
    "print('Error: {}'.format(mean_absolute_error(pred_values, y)))"
   ]
  },
  {
   "cell_type": "markdown",
   "metadata": {},
   "source": [
    "Как видим, веса (коэффициенты) получились 0.2 и -5, сдвиг равен -161, а абсолютная ошибка близка к 0. Модель линейной регрессии идеально предсказала и подобрала коэффциенты, которые мы закладывали в изначальную формулу."
   ]
  },
  {
   "cell_type": "code",
   "execution_count": null,
   "metadata": {},
   "outputs": [],
   "source": []
  }
 ],
 "metadata": {
  "kernelspec": {
   "display_name": "Python 3",
   "language": "python",
   "name": "python3"
  },
  "language_info": {
   "codemirror_mode": {
    "name": "ipython",
    "version": 3
   },
   "file_extension": ".py",
   "mimetype": "text/x-python",
   "name": "python",
   "nbconvert_exporter": "python",
   "pygments_lexer": "ipython3",
   "version": "3.7.6"
  }
 },
 "nbformat": 4,
 "nbformat_minor": 2
}
