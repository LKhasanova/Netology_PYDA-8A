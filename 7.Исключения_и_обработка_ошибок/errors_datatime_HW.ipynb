{
 "cells": [
  {
   "cell_type": "markdown",
   "metadata": {},
   "source": [
    "# Домашнее задание"
   ]
  },
  {
   "cell_type": "markdown",
   "metadata": {},
   "source": [
    "#### Задание 1\n",
    "Напишите функцию date_range, которая возвращает список дней между датами start_date и end_date. Даты должны вводиться в формате YYYY-MM-DD."
   ]
  },
  {
   "cell_type": "code",
   "execution_count": null,
   "metadata": {},
   "outputs": [],
   "source": [
    "from datetime import datetime\n",
    "from datetime import timedelta\n",
    "\n",
    "def date_range(start_date, end_date):\n",
    "    list_dates = []\n",
    "    start_date_dt = datetime.strptime(start_date, '%Y-%m-%d')\n",
    "    end_date_dt = datetime.strptime(end_date, '%Y-%m-%d')\n",
    "    changing_date = start_date_dt\n",
    "    while changing_date <= end_date_dt:\n",
    "        list_dates.append(changing_date.strftime('%Y-%m-%d'))\n",
    "        changing_date += timedelta(days=1)    \n",
    "    return list_dates\n",
    "        \n",
    "date_range('2020-04-01', '2020-04-15')"
   ]
  },
  {
   "cell_type": "markdown",
   "metadata": {},
   "source": [
    "#### Задание 2\n",
    "Дополните функцию из первого задания проверкой на корректность дат. В случае неверного формата или если start_date > end_date должен возвращаться пустой список."
   ]
  },
  {
   "cell_type": "code",
   "execution_count": null,
   "metadata": {},
   "outputs": [],
   "source": [
    "def date_range(start_date, end_date):\n",
    "    list_dates = []\n",
    "    try:\n",
    "        start_date_dt = datetime.strptime(start_date, '%Y-%m-%d')\n",
    "        end_date_dt = datetime.strptime(end_date, '%Y-%m-%d')\n",
    "        changing_date = start_date_dt\n",
    "        while changing_date <= end_date_dt:\n",
    "            list_dates.append(changing_date.strftime('%Y-%m-%d'))\n",
    "            changing_date += timedelta(days=1)    \n",
    "    except ValueError:\n",
    "        list_dates = []\n",
    "    return list_dates\n",
    "        \n",
    "date_range('2020-04-26', '2020-04-15')"
   ]
  },
  {
   "cell_type": "markdown",
   "metadata": {},
   "source": [
    "#### Задание 3\n",
    "Дан поток дат в формате YYYY-MM-DD, в которых встречаются некорректные значения:\n",
    "stream = [‘2018-04-02’, ‘2018-02-29’, ‘2018-19-02’]\n",
    "\n",
    "Напишите функцию, которая проверяет эти даты на корректность. Т. е. для каждой даты возвращает True (дата корректна) или False (некорректная дата)."
   ]
  },
  {
   "cell_type": "code",
   "execution_count": null,
   "metadata": {},
   "outputs": [],
   "source": [
    "stream = ['2018-04-02', '2018-02-29', '2018-19-02']\n",
    "def correct_date(date_):\n",
    "    flag = True\n",
    "    try: \n",
    "        valid_date = datetime.strptime(date_, '%Y-%m-%d')\n",
    "    except ValueError:\n",
    "        flag = False\n",
    "    return flag\n",
    "\n",
    "for date_ in stream:\n",
    "    print(date_, correct_date(date_))"
   ]
  },
  {
   "cell_type": "markdown",
   "metadata": {},
   "source": [
    "#### Задание 4 (бонусное)\n",
    "Ваш коллега прислал код функции:"
   ]
  },
  {
   "cell_type": "code",
   "execution_count": null,
   "metadata": {},
   "outputs": [],
   "source": [
    "DEFAULT_USER_COUNT = 3\n",
    "def delete_and_return_last_user(region, default_list=['A100', 'A101', 'A102']):\n",
    "    \"\"\"\n",
    "Удаляет из списка default_list последнего пользователя\n",
    "и возвращает ID нового последнего пользователя.\n",
    "    \"\"\"\n",
    "    element_to_delete = default_list[-1]\n",
    "    default_list.remove(element_to_delete)\n",
    "\n",
    "    return default_list[DEFAULT_USER_COUNT-2]"
   ]
  },
  {
   "cell_type": "markdown",
   "metadata": {},
   "source": [
    "При однократном вызове этой функции все работает корректно:\n",
    "delete_and_return_last_user(1)\n",
    "‘A101’\n",
    "\n",
    "Однако, при повторном вызове получается ошибка IndexError: list index out of range.\n",
    "\n",
    "Задание:\n",
    "\n",
    "1. Что значит ошибка list index out of range?\n",
    "2. Почему при первом запуске функция работает корректно, а при втором - нет?"
   ]
  },
  {
   "cell_type": "code",
   "execution_count": null,
   "metadata": {},
   "outputs": [],
   "source": [
    "delete_and_return_last_user(1)"
   ]
  },
  {
   "cell_type": "code",
   "execution_count": null,
   "metadata": {},
   "outputs": [],
   "source": [
    "Тип ошибки IndexError - индекс не входит в диапазон элементов.\n",
    "list index out of range, переводится как: индекс списка вне диапазона.\n",
    "По Traceback видно, что ошибка в функции, а именно в строке return default_list[DEFAULT_USER_COUNT-2]\n",
    "То есть происходит попытка обратиться к несуществующему элементу списка, вследствие чего происходит ошибка."
   ]
  },
  {
   "cell_type": "code",
   "execution_count": null,
   "metadata": {},
   "outputs": [],
   "source": [
    "При первом вызове функции default_list=['A100', 'A101', 'A102'] состоит из 3-х элементов,\n",
    "element_to_delete равен элмененту с индексом -1, те A102, после удаления список выглядит default_list=['A100', 'A101']\n",
    "Возвращается значение с индексом [3-2] = 1, то есть A101\n",
    "При повторном вызове функции default_list=['A100', 'A101'], состоит из 2-х элементов,\n",
    "element_to_delete равен A101, после удаления список выгдядит default_list=['A100']\n",
    "Возвращается значение с индексом 1 (так как переменная DEFAULT_USER_COUNT объявлена глобально),\n",
    "а в списке сейчас только один элемент с индеком 0, поэтому функция выдает ошибку.\n",
    "Для правильной работы функции можно переменную DEFAULT_USER_COUNT объявить локально внутри функции, равной длине списка.\n",
    "DEFAULT_USER_COUNT = len(default_list)"
   ]
  }
 ],
 "metadata": {
  "kernelspec": {
   "display_name": "Python 3",
   "language": "python",
   "name": "python3"
  },
  "language_info": {
   "codemirror_mode": {
    "name": "ipython",
    "version": 3
   },
   "file_extension": ".py",
   "mimetype": "text/x-python",
   "name": "python",
   "nbconvert_exporter": "python",
   "pygments_lexer": "ipython3",
   "version": "3.7.6"
  }
 },
 "nbformat": 4,
 "nbformat_minor": 2
}
